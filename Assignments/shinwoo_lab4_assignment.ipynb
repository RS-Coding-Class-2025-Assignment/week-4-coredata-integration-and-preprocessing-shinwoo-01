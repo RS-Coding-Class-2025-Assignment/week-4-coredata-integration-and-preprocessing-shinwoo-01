{
 "cells": [
  {
   "cell_type": "code",
   "execution_count": 5,
   "id": "2168badc",
   "metadata": {},
   "outputs": [
    {
     "name": "stdout",
     "output_type": "stream",
     "text": [
      "Loading1\n",
      "Loading2\n",
      "Processing1\n",
      "Processing2\n",
      "Analyzing1\n",
      "Analyzing2\n",
      "Finalizing1\n",
      "Finalizing2\n",
      "Fake Done\n",
      "Done\n"
     ]
    }
   ],
   "source": [
    "import tkinter as tk\n",
    "from tkinter import ttk\n",
    "import time\n",
    "\n",
    "root = tk.Tk()\n",
    "root.title(\"Assignment 3\")\n",
    "\n",
    "\n",
    "def run_steps():\n",
    "    for i in range(len(steps)):\n",
    "        print(steps[i])  # 콘솔 출력\n",
    "        status_label.config(text=steps[i])  \n",
    "        step_counter_label.config(text=f\"Step {i+1}/{len(steps)}\")\n",
    "        progress.step(1)\n",
    "        root.update()\n",
    "        time.sleep(0.5)\n",
    "\n",
    "steps = [\"Loading1\", \"Loading2\", \"Processing1\", \"Processing2\", \"Analyzing1\", \"Analyzing2\", \"Finalizing1\", \"Finalizing2\", \"Fake Done\", \"Done\"]\n",
    "\n",
    "# Progress Bar\n",
    "progress = ttk.Progressbar(root, orient=\"vertical\", length=300, mode=\"determinate\")\n",
    "progress.pack(pady=20)\n",
    "progress[\"maximum\"] = len(steps)\n",
    "\n",
    "# 각 단계 텍스트 출력용 라벨\n",
    "status_label = tk.Label(root, text=\"Waiting...\")\n",
    "status_label.pack()\n",
    "\n",
    "# 진행 상황 (Step x/10) 출력용 라벨\n",
    "step_counter_label = tk.Label(root, text=\"Step 0/10\")\n",
    "step_counter_label.pack()\n",
    "\n",
    "\n",
    "# Start 버튼\n",
    "start_button = tk.Button(root, text=\"Start\", command=run_steps)\n",
    "start_button.pack(pady=10)\n",
    "\n",
    "root.mainloop()\n"
   ]
  },
  {
   "cell_type": "code",
   "execution_count": null,
   "id": "24f18a1d",
   "metadata": {},
   "outputs": [],
   "source": []
  }
 ],
 "metadata": {
  "kernelspec": {
   "display_name": "Python 3",
   "language": "python",
   "name": "python3"
  },
  "language_info": {
   "codemirror_mode": {
    "name": "ipython",
    "version": 3
   },
   "file_extension": ".py",
   "mimetype": "text/x-python",
   "name": "python",
   "nbconvert_exporter": "python",
   "pygments_lexer": "ipython3",
   "version": "3.12.4"
  }
 },
 "nbformat": 4,
 "nbformat_minor": 5
}
